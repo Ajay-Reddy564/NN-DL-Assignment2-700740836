{
 "cells": [
  {
   "cell_type": "code",
   "execution_count": 51,
   "id": "4fa796ff",
   "metadata": {},
   "outputs": [
    {
     "name": "stdout",
     "output_type": "stream",
     "text": [
      "enter first name Ajay\n",
      "enter last nameVeluru\n",
      "AjayVeluru\n"
     ]
    }
   ],
   "source": [
    "first=input(\"enter first name \") # first name\n",
    "last=input(\"enter last name\")\n",
    "def full_name(first,last):\n",
    "    return(first+last) #returning first,last name\n",
    "\n",
    "print(full_name(first,last)) #printing the whole name"
   ]
  },
  {
   "cell_type": "code",
   "execution_count": 52,
   "id": "e15d0832",
   "metadata": {},
   "outputs": [
    {
     "name": "stdout",
     "output_type": "stream",
     "text": [
      "Good Evening\n",
      "Go vnn"
     ]
    }
   ],
   "source": [
    "n=input()\n",
    "def string_alternative(str1): \n",
    "    for i in range(0,len(str1),2): # Here we print the alternative char in the given string using this for loop\n",
    "        print(str1[i],end=\"\")\n",
    "if __name__==\"__main__\":\n",
    "    string_alternative(n)"
   ]
  },
  {
   "cell_type": "code",
   "execution_count": 53,
   "id": "ff6def6e",
   "metadata": {},
   "outputs": [],
   "source": [
    "file1 = open(\"input.txt\",\"r\") #reading the input file and we have given two words in that file named Python Course and Deep Learning Course\n",
    "l=file1.readlines()\n",
    "d={}\n",
    "for i in l:\n",
    "    i=i.replace(\"\\n\",\"\")\n",
    "\n",
    "    k=i.split(\" \")\n",
    "    for j in k:\n",
    "        if(j in d):\n",
    "                d[j]=d[j]+1\n",
    "        else:\n",
    "            d[j]=1\n",
    "file2=open(\"output.txt\",\"w+\") #It creates the output.txt file and mention the no of words in the input file and how many times the word occured\n",
    "for i in d:\n",
    "    k=i+\":\"+str(d[i])+\"\\n\"\n",
    "    file2.write(k)"
   ]
  },
  {
   "cell_type": "code",
   "execution_count": 54,
   "id": "04037a0c",
   "metadata": {},
   "outputs": [
    {
     "name": "stdout",
     "output_type": "stream",
     "text": [
      "enter heights150 148 143 168\n",
      "[68.03, 67.12, 64.86, 76.19]\n"
     ]
    }
   ],
   "source": [
    "l=list(map(int,input(\"enter heights\").split())) # We are taking heights in cms from user in a list format\n",
    "l1=[round(l[i]/2.2049,2) for i in range(0,len(l))] # coverting the given inputs into inches\n",
    "\n",
    "print(l1)"
   ]
  },
  {
   "cell_type": "code",
   "execution_count": null,
   "id": "d1ab2c42",
   "metadata": {},
   "outputs": [],
   "source": []
  }
 ],
 "metadata": {
  "kernelspec": {
   "display_name": "Python 3 (ipykernel)",
   "language": "python",
   "name": "python3"
  },
  "language_info": {
   "codemirror_mode": {
    "name": "ipython",
    "version": 3
   },
   "file_extension": ".py",
   "mimetype": "text/x-python",
   "name": "python",
   "nbconvert_exporter": "python",
   "pygments_lexer": "ipython3",
   "version": "3.9.12"
  }
 },
 "nbformat": 4,
 "nbformat_minor": 5
}
